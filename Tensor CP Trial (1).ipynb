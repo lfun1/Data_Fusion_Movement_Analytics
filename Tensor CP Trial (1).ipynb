{
 "cells": [
  {
   "cell_type": "markdown",
   "id": "968879a4",
   "metadata": {},
   "source": [
    "#### Attempt at CP implementation for tensor decomposition\n",
    "\n",
    "Here is the pseudocode we will try to for the function cp.\n",
    "\n",
    "def cp(X,R):\n",
    "\n",
    "initialize $A^{(n)} \\in \\mathbb{R}^{I_n \\times R}$ for $n = 1, ... N$\n",
    "    \n",
    "repeat\n",
    "\n",
    "for $n = 1, ..., N$ do\n",
    "        \n",
    "$V = {A^{(1)}}^T A^{(1)} * ... * {A^{(n-1)}}^T A^{(n-1)} * {A^{(n+1)}}^T A^{(n+1)} * ... * {A^{(N)}}^T A^{(N)}$\n",
    "\n",
    "$A^{(n)} = X^{(n)} (A^{(N)} \\odot ... \\odot A^{(n+1)} \\odot A^{(n-1)} \\odot ... \\odot A^{(1)}) V^{\\dagger}$\n",
    "\n",
    "normalize columns of A and store norms $\\lambda$\n",
    "\n",
    "end for\n",
    "\n",
    "until fit ceases to improve or maximum iterations exhausted\n",
    "\n",
    "return $\\lambda, A^{(1)}, A^{(2)}, ..., A^{(N)}$\n",
    "\n",
    "end procedure"
   ]
  },
  {
   "cell_type": "code",
   "execution_count": 32,
   "id": "47add5ca",
   "metadata": {},
   "outputs": [],
   "source": [
    "import numpy as np\n",
    "from scipy import linalg as LA\n",
    "# import tensorly as tl\n",
    "\n",
    "# function implementation of cp\n",
    "\n",
    "def cp(X,R):\n",
    "    \n",
    "    # shape of tensor X, returns tuple of dimensions\n",
    "    shp = np.shape(X)\n",
    "    N = np.ndim(X)\n",
    "    \n",
    "    # initialize array of all A^(n)\n",
    "    A = np.array()\n",
    "    \n",
    "    # fill in array of all A^(n) with each A^(n) being a \n",
    "    # 2D array of dimensions I_n * R and filled with ones\n",
    "    \n",
    "    for i in range(0,N):\n",
    "        A[i] = np.ones([shp[i], R], dtype = int)\n",
    "        \n",
    "    # repeat updates to all A^(n) until fit ceases to \n",
    "    # improve or max iterations exhausted\n",
    "    \n",
    "    lmd = np.array() # lambda\n",
    "    \n",
    "    maxit = 100 # max iterations\n",
    "    \n",
    "    while (it < maxit):\n",
    "        \n",
    "        for j in range(0,N):\n",
    "            \n",
    "            # calculate V\n",
    "            V = np.array(int)\n",
    "            for k in range(0,j) + range(j+1, N):\n",
    "                V = V * np.matmul(A[k].transpose, A[k])\n",
    "                \n",
    "            # calculate A\n",
    "            for m in range(N-1,j-1, -1) + range(j-2, -1, -1):\n",
    "                A[j] = LA.khatri_rao(A[j], A[m])\n",
    "                \n",
    "            A[j] = np.reshape(X, (shp[j], np.size(X)/shp[j])) * A[j] * np.pinv(V)\n",
    "            \n",
    "            # normalize columns\n",
    "            lmd = LA.norm(A[j])\n",
    "            A[j] = A[j] / lmd\n",
    "        \n",
    "        it += 1\n",
    "        \n",
    "    return lmd, A"
   ]
  },
  {
   "cell_type": "code",
   "execution_count": 33,
   "id": "d67b72b1",
   "metadata": {},
   "outputs": [
    {
     "ename": "MemoryError",
     "evalue": "Unable to allocate 95.1 PiB for an array with shape (5, 6, 7, 8, 5, 6, 7, 8, 5, 6, 7, 8, 5, 6, 7, 8, 5, 6, 7, 8) and data type float64",
     "output_type": "error",
     "traceback": [
      "\u001b[1;31m---------------------------------------------------------------------------\u001b[0m",
      "\u001b[1;31mMemoryError\u001b[0m                               Traceback (most recent call last)",
      "\u001b[1;32m~\\AppData\\Local\\Temp/ipykernel_18016/2749984203.py\u001b[0m in \u001b[0;36m<module>\u001b[1;34m\u001b[0m\n\u001b[0;32m      4\u001b[0m \u001b[0mX\u001b[0m \u001b[1;33m=\u001b[0m \u001b[0mnp\u001b[0m\u001b[1;33m.\u001b[0m\u001b[0mrandom\u001b[0m\u001b[1;33m.\u001b[0m\u001b[0mrand\u001b[0m\u001b[1;33m(\u001b[0m\u001b[1;36m5\u001b[0m\u001b[1;33m,\u001b[0m\u001b[1;36m6\u001b[0m\u001b[1;33m,\u001b[0m\u001b[1;36m7\u001b[0m\u001b[1;33m,\u001b[0m\u001b[1;36m8\u001b[0m\u001b[1;33m)\u001b[0m\u001b[1;33m\u001b[0m\u001b[1;33m\u001b[0m\u001b[0m\n\u001b[0;32m      5\u001b[0m \u001b[1;33m\u001b[0m\u001b[0m\n\u001b[1;32m----> 6\u001b[1;33m \u001b[0mprint\u001b[0m\u001b[1;33m(\u001b[0m\u001b[0mcp\u001b[0m\u001b[1;33m(\u001b[0m\u001b[0mX\u001b[0m\u001b[1;33m,\u001b[0m\u001b[1;36m5\u001b[0m\u001b[1;33m)\u001b[0m\u001b[1;33m)\u001b[0m\u001b[1;33m\u001b[0m\u001b[1;33m\u001b[0m\u001b[0m\n\u001b[0m",
      "\u001b[1;32m~\\AppData\\Local\\Temp/ipykernel_18016/3479482038.py\u001b[0m in \u001b[0;36mcp\u001b[1;34m(X, R)\u001b[0m\n\u001b[0;32m     12\u001b[0m \u001b[1;33m\u001b[0m\u001b[0m\n\u001b[0;32m     13\u001b[0m     \u001b[1;31m# initialize array of all A^(n)\u001b[0m\u001b[1;33m\u001b[0m\u001b[1;33m\u001b[0m\u001b[0m\n\u001b[1;32m---> 14\u001b[1;33m     \u001b[0mA\u001b[0m \u001b[1;33m=\u001b[0m \u001b[0mnp\u001b[0m\u001b[1;33m.\u001b[0m\u001b[0mones\u001b[0m\u001b[1;33m(\u001b[0m\u001b[0mshp\u001b[0m\u001b[1;33m*\u001b[0m\u001b[0mR\u001b[0m\u001b[1;33m)\u001b[0m\u001b[1;33m\u001b[0m\u001b[1;33m\u001b[0m\u001b[0m\n\u001b[0m\u001b[0;32m     15\u001b[0m \u001b[1;33m\u001b[0m\u001b[0m\n\u001b[0;32m     16\u001b[0m     \u001b[1;31m# fill in array of all A^(n) with each A^(n) being a\u001b[0m\u001b[1;33m\u001b[0m\u001b[1;33m\u001b[0m\u001b[0m\n",
      "\u001b[1;32m~\\anaconda3\\lib\\site-packages\\numpy\\core\\numeric.py\u001b[0m in \u001b[0;36mones\u001b[1;34m(shape, dtype, order, like)\u001b[0m\n\u001b[0;32m    201\u001b[0m         \u001b[1;32mreturn\u001b[0m \u001b[0m_ones_with_like\u001b[0m\u001b[1;33m(\u001b[0m\u001b[0mshape\u001b[0m\u001b[1;33m,\u001b[0m \u001b[0mdtype\u001b[0m\u001b[1;33m=\u001b[0m\u001b[0mdtype\u001b[0m\u001b[1;33m,\u001b[0m \u001b[0morder\u001b[0m\u001b[1;33m=\u001b[0m\u001b[0morder\u001b[0m\u001b[1;33m,\u001b[0m \u001b[0mlike\u001b[0m\u001b[1;33m=\u001b[0m\u001b[0mlike\u001b[0m\u001b[1;33m)\u001b[0m\u001b[1;33m\u001b[0m\u001b[1;33m\u001b[0m\u001b[0m\n\u001b[0;32m    202\u001b[0m \u001b[1;33m\u001b[0m\u001b[0m\n\u001b[1;32m--> 203\u001b[1;33m     \u001b[0ma\u001b[0m \u001b[1;33m=\u001b[0m \u001b[0mempty\u001b[0m\u001b[1;33m(\u001b[0m\u001b[0mshape\u001b[0m\u001b[1;33m,\u001b[0m \u001b[0mdtype\u001b[0m\u001b[1;33m,\u001b[0m \u001b[0morder\u001b[0m\u001b[1;33m)\u001b[0m\u001b[1;33m\u001b[0m\u001b[1;33m\u001b[0m\u001b[0m\n\u001b[0m\u001b[0;32m    204\u001b[0m     \u001b[0mmultiarray\u001b[0m\u001b[1;33m.\u001b[0m\u001b[0mcopyto\u001b[0m\u001b[1;33m(\u001b[0m\u001b[0ma\u001b[0m\u001b[1;33m,\u001b[0m \u001b[1;36m1\u001b[0m\u001b[1;33m,\u001b[0m \u001b[0mcasting\u001b[0m\u001b[1;33m=\u001b[0m\u001b[1;34m'unsafe'\u001b[0m\u001b[1;33m)\u001b[0m\u001b[1;33m\u001b[0m\u001b[1;33m\u001b[0m\u001b[0m\n\u001b[0;32m    205\u001b[0m     \u001b[1;32mreturn\u001b[0m \u001b[0ma\u001b[0m\u001b[1;33m\u001b[0m\u001b[1;33m\u001b[0m\u001b[0m\n",
      "\u001b[1;31mMemoryError\u001b[0m: Unable to allocate 95.1 PiB for an array with shape (5, 6, 7, 8, 5, 6, 7, 8, 5, 6, 7, 8, 5, 6, 7, 8, 5, 6, 7, 8) and data type float64"
     ]
    }
   ],
   "source": [
    "# Testing\n",
    "\n",
    "# initialize the tensor X\n",
    "X = np.random.rand(5,6,7,8)\n",
    "\n",
    "print(cp(X,5))"
   ]
  },
  {
   "cell_type": "code",
   "execution_count": null,
   "id": "5e33cf9b",
   "metadata": {},
   "outputs": [],
   "source": []
  }
 ],
 "metadata": {
  "kernelspec": {
   "display_name": "Python 3 (ipykernel)",
   "language": "python",
   "name": "python3"
  },
  "language_info": {
   "codemirror_mode": {
    "name": "ipython",
    "version": 3
   },
   "file_extension": ".py",
   "mimetype": "text/x-python",
   "name": "python",
   "nbconvert_exporter": "python",
   "pygments_lexer": "ipython3",
   "version": "3.9.7"
  }
 },
 "nbformat": 4,
 "nbformat_minor": 5
}
