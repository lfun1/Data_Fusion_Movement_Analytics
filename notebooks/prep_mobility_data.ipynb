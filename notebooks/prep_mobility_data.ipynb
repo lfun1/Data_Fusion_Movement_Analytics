{
 "cells": [
  {
   "cell_type": "markdown",
   "id": "75c7467b",
   "metadata": {},
   "source": [
    "## Preparing Real-World Mobility Data\n",
    "\n",
    "#### Processing and binning mobility data"
   ]
  },
  {
   "cell_type": "code",
   "execution_count": 9,
   "id": "205306b7",
   "metadata": {},
   "outputs": [],
   "source": [
    "import math\n",
    "import numpy as np\n",
    "import dask.dataframe as dd\n",
    "import numpy.random\n",
    "import pandas as pd\n",
    "import time\n",
    "import configparser\n",
    "import xarray\n",
    "\n",
    "import geopandas as gpd"
   ]
  },
  {
   "cell_type": "code",
   "execution_count": 13,
   "id": "54d7b295",
   "metadata": {},
   "outputs": [],
   "source": [
    "# load data into DataFrame\n",
    "df_path = \"counts_merged.csv\"\n",
    "df = pd.read_csv(df_path)"
   ]
  },
  {
   "cell_type": "markdown",
   "id": "9449d452",
   "metadata": {},
   "source": [
    "Data Frame to tensor/matrix\n",
    "- Bin tensor (poi_cbg, dt, dist_to_fire_bin modes)\n",
    "- Do not bin matrix (poi_cbg mode: pop2019, poi_cnt), use I * 2 matrix"
   ]
  },
  {
   "cell_type": "code",
   "execution_count": 16,
   "id": "59cf0e95",
   "metadata": {},
   "outputs": [],
   "source": [
    "# Bin dist_to_fire_m for tensor\n",
    "\n",
    "dist_to_fire_m_bin = pd.qcut(df.loc[:,'dist_to_fire_m'], 10, labels = np.arange(1, 11))\n",
    "df_bin = df\n",
    "df_bin['dist_to_fire_m_bin'] = dist_to_fire_m_bin"
   ]
  },
  {
   "cell_type": "code",
   "execution_count": 17,
   "id": "4d60bfab",
   "metadata": {},
   "outputs": [],
   "source": [
    "# Create tensor\n",
    "df_tensor = df_bin.loc[:, ('poi_cbg', 'dt','dist_to_fire_m_bin', 'raw_visit_counts')]\n",
    "pd_tensor = df_tensor.set_index(['poi_cbg', 'dt','dist_to_fire_m_bin'])\n",
    "\n",
    "# remove duplicates\n",
    "dupe_index_tensor = pd_tensor.index.duplicated(keep=\"first\")\n",
    "pd_tensor = pd_tensor[~dupe_index_tensor]\n",
    "    \n",
    "pd_tensor = pd_tensor.sort_index()\n",
    "xa_tensor = pd_tensor.to_xarray()\n",
    "\n",
    "np_tensor = xa_tensor.to_array().to_numpy()\n",
    "np_tensor = np.squeeze(np_tensor)\n",
    "np_tensor = np.nan_to_num(np_tensor) # convert nan's to zeroes"
   ]
  },
  {
   "cell_type": "code",
   "execution_count": 19,
   "id": "62e85f58",
   "metadata": {},
   "outputs": [],
   "source": [
    "# Create matrix\n",
    "df_matrix = df_bin.loc[:, ('poi_cbg', 'pop2019', 'poi_cnt')]\n",
    "pd_matrix = df_matrix.set_index(['poi_cbg'])\n",
    "\n",
    "# remove duplicates\n",
    "dupe_index_matrix = pd_matrix.index.duplicated(keep=\"first\")\n",
    "pd_matrix = pd_matrix[~dupe_index_matrix]\n",
    "\n",
    "pd_matrix = pd_matrix.sort_index()\n",
    "xa_matrix = pd_matrix.to_xarray()\n",
    "\n",
    "np_matrix = xa_matrix.to_array().to_numpy()\n",
    "np_matrix = np.squeeze(np_matrix)\n",
    "np_matrix = np.nan_to_num(np_matrix)\n",
    "np_matrix = np_matrix.transpose()"
   ]
  },
  {
   "cell_type": "code",
   "execution_count": 22,
   "id": "0998bd52",
   "metadata": {},
   "outputs": [],
   "source": [
    "import scipy.io\n",
    "\n",
    "# Save tensor and matrix\n",
    "scipy.io.savemat('mobility_data_tensor_matrix.mat', dict(tensor = np_tensor, matrix = np_matrix))"
   ]
  }
 ],
 "metadata": {
  "kernelspec": {
   "display_name": "Python 3 (ipykernel)",
   "language": "python",
   "name": "python3"
  },
  "language_info": {
   "codemirror_mode": {
    "name": "ipython",
    "version": 3
   },
   "file_extension": ".py",
   "mimetype": "text/x-python",
   "name": "python",
   "nbconvert_exporter": "python",
   "pygments_lexer": "ipython3",
   "version": "3.9.12"
  }
 },
 "nbformat": 4,
 "nbformat_minor": 5
}
